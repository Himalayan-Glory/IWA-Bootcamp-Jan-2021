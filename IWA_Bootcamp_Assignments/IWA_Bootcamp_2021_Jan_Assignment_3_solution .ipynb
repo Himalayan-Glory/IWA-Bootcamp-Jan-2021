{
 "cells": [
  {
   "cell_type": "markdown",
   "metadata": {},
   "source": [
    "------------------------------------------------------------------------------------------------------------------\n",
    "                            ---IWA_Bootcamp_Jan_2021---\n",
    "------------------------------------------------------------------------------------------------------------------------------------\n",
    "                                    Assignment-3"
   ]
  },
  {
   "cell_type": "markdown",
   "metadata": {},
   "source": [
    "## Python Assignment: 3"
   ]
  },
  {
   "cell_type": "markdown",
   "metadata": {},
   "source": [
    "# 1. Create a variable, paragraph, that has the following content:\n",
    "\"Python is a great language!\",said Fred. \"I don't ever remember having this much fun before.\""
   ]
  },
  {
   "cell_type": "code",
   "execution_count": 2,
   "metadata": {},
   "outputs": [
    {
     "name": "stdout",
     "output_type": "stream",
     "text": [
      "\"Python is a great language!\", said Fred. \"I don't ever remember having this much fun before.\"\n"
     ]
    }
   ],
   "source": [
    "paragraph = '\"Python is a great language!\", said Fred. \"I don\\'t ever remember having this much fun before.\"'\n",
    "print(paragraph)"
   ]
  },
  {
   "cell_type": "code",
   "execution_count": null,
   "metadata": {},
   "outputs": [],
   "source": []
  },
  {
   "cell_type": "markdown",
   "metadata": {},
   "source": [
    "# 2. Write an if statement to determine whether a variable holding a year is a leap year."
   ]
  },
  {
   "cell_type": "code",
   "execution_count": 5,
   "metadata": {},
   "outputs": [
    {
     "name": "stdout",
     "output_type": "stream",
     "text": [
      "Enter a year: 2021\n",
      "2021 is not a leap year\n"
     ]
    }
   ],
   "source": [
    "year = int(input(\"Enter a year: \"))\n",
    "if (year % 4 == 0 and year % 100 != 0) or year % 400 == 0:\n",
    "    print(year, \"is a Leap year\")\n",
    "else:\n",
    "    print(year, \"is not a leap year\")"
   ]
  },
  {
   "cell_type": "code",
   "execution_count": null,
   "metadata": {},
   "outputs": [],
   "source": []
  },
  {
   "cell_type": "markdown",
   "metadata": {},
   "source": [
    "# 3. Write code that will print out the anagrams (words that use the same letters) from a paragraph of text."
   ]
  },
  {
   "cell_type": "code",
   "execution_count": 9,
   "metadata": {},
   "outputs": [
    {
     "name": "stdout",
     "output_type": "stream",
     "text": [
      "The anagram of tod is: dot\n",
      "The anagram of salt is: last\n",
      "The anagram of dot is: tod\n",
      "The anagram of last is: salt\n",
      "The anagram of mood is: doom\n",
      "The anagram of doom is: mood\n"
     ]
    }
   ],
   "source": [
    "word_list = [\"tod\", \"salt\", \"dot\", \"last\", \"mood\", \"doom\"]\n",
    "for i in word_list:\n",
    "    for j in word_list:\n",
    "        if len(i) == len(j) and i != j:\n",
    "            for item in range(len(i)):\n",
    "                for items in range(len(j)):\n",
    "                    if i[item] == j[items]:\n",
    "                        result = j\n",
    "    print(\"The anagram of {} is:\".format(i), result)"
   ]
  },
  {
   "cell_type": "code",
   "execution_count": null,
   "metadata": {},
   "outputs": [],
   "source": []
  },
  {
   "cell_type": "code",
   "execution_count": null,
   "metadata": {},
   "outputs": [],
   "source": []
  },
  {
   "cell_type": "markdown",
   "metadata": {},
   "source": [
    "# 4.Create a list. Append the names of your colleagues and friends to it. Has the id of the list changed? Sort the list. What is the first item on the list? What is the second item on the list?"
   ]
  },
  {
   "cell_type": "code",
   "execution_count": 18,
   "metadata": {},
   "outputs": [
    {
     "name": "stdout",
     "output_type": "stream",
     "text": [
      "140678169673344\n",
      "['ram', 'hari', 'krishna']\n",
      "140678169673344\n",
      "140678169867120\n",
      "['hari', 'krishna', 'ram']\n",
      "['hari', 'krishna']\n"
     ]
    }
   ],
   "source": [
    "list1=[]\n",
    "print(id(list1))\n",
    "list1.extend(['ram','hari','krishna'])\n",
    "print(list1)\n",
    "print(id(list1))\n",
    "print(id(list1[2]))\n",
    "\n",
    "sorted_list = sorted(list1)\n",
    "print(sorted_list)  \n",
    "print(sorted_list[0: 2])  "
   ]
  },
  {
   "cell_type": "code",
   "execution_count": null,
   "metadata": {},
   "outputs": [],
   "source": []
  },
  {
   "cell_type": "markdown",
   "metadata": {},
   "source": [
    "# 5. Create a tuple with your first name, last name, and age. Create a list, people, and append your tuple to it. Make more tuples with the corresponding information from your friends and append them to the list. Sort the list. When you learn about sort method, you can use the key parameter to sort by any field in the tuple, first name, last name, or age."
   ]
  },
  {
   "cell_type": "code",
   "execution_count": 21,
   "metadata": {},
   "outputs": [
    {
     "name": "stdout",
     "output_type": "stream",
     "text": [
      "[('Hri', 'Ram', 18)]\n",
      "[('Hri', 'Ram', 18), ('KP', 'Oli', 70), ('PK', 'Dahal', 68)]\n",
      "[('Hri', 'Ram', 18), ('PK', 'Dahal', 68), ('KP', 'Oli', 70)]\n"
     ]
    }
   ],
   "source": [
    "name_tuple = ('Hri', 'Ram', 18)\n",
    "people = []\n",
    "people.append(name_tuple)\n",
    "print(people)\n",
    "\n",
    "#adding_more_tuples\n",
    "t1 = ('KP', 'Oli', 70)\n",
    "t2 = ('PK', 'Dahal', 68)\n",
    "people.extend([t1, t2])\n",
    "print(people)\n",
    "\n",
    "#tuple_sort_by_age_parameter\n",
    "sorted_list = sorted(people, key=lambda tup: tup[2])\n",
    "print(sorted_list)"
   ]
  },
  {
   "cell_type": "code",
   "execution_count": null,
   "metadata": {},
   "outputs": [],
   "source": []
  },
  {
   "cell_type": "code",
   "execution_count": null,
   "metadata": {},
   "outputs": [],
   "source": []
  },
  {
   "cell_type": "markdown",
   "metadata": {},
   "source": [
    "# 6.Create a list with the names of friends and colleagues. Search for the name ‘John’ using a for a loop. Print ‘not found’ if you didn't find it."
   ]
  },
  {
   "cell_type": "code",
   "execution_count": 22,
   "metadata": {},
   "outputs": [
    {
     "name": "stdout",
     "output_type": "stream",
     "text": [
      "not found\n"
     ]
    }
   ],
   "source": [
    "friends = ['Sugam', 'Sagun', 'Sangam']\n",
    "for i in friends:\n",
    "    if 'John' in i:\n",
    "        print(\"found\")\n",
    "else:\n",
    "    print(\"not found\")"
   ]
  },
  {
   "cell_type": "code",
   "execution_count": null,
   "metadata": {},
   "outputs": [],
   "source": []
  },
  {
   "cell_type": "markdown",
   "metadata": {},
   "source": [
    "# 7. Create a list of tuples of first name, last name, and age for your friends and colleagues. If you don't know the age, put in None. Calculate the average age, skipping over any None values. Print out each name, followed by old or young if they are above or below the average age."
   ]
  },
  {
   "cell_type": "code",
   "execution_count": 24,
   "metadata": {},
   "outputs": [
    {
     "name": "stdout",
     "output_type": "stream",
     "text": [
      "[30, 28, 25]\n",
      "The average age is: 27.67\n",
      "Pasang is old\n",
      "Dawa is old\n",
      "Aarong is young\n"
     ]
    }
   ],
   "source": [
    "my_list = [('Pasang', 'Sherpa', 30), ('Dawa', 'David', 28), ('Aarong', 'Bhote', 25)]\n",
    "age = []\n",
    "for i in range(len(my_list)):\n",
    "    age.append(my_list[i][2])\n",
    "print(age)\n",
    "\n",
    "avg = sum(age)/len(age)\n",
    "print(\"The average age is: {:.2f}\".format(avg))\n",
    "\n",
    "for i in range(len(my_list)):\n",
    "    if my_list[i][2] > avg:\n",
    "        print(my_list[i][0] + \" is old\")\n",
    "    else:\n",
    "        print(my_list[i][0] + \" is young\")"
   ]
  },
  {
   "cell_type": "code",
   "execution_count": null,
   "metadata": {},
   "outputs": [],
   "source": []
  },
  {
   "cell_type": "markdown",
   "metadata": {},
   "source": [
    "# 8. Write a function, is_prime, that takes an integer and returns True if thenumber is prime and False if the number is not prime."
   ]
  },
  {
   "cell_type": "code",
   "execution_count": 27,
   "metadata": {},
   "outputs": [
    {
     "name": "stdout",
     "output_type": "stream",
     "text": [
      "enter a number: 24\n",
      "False\n"
     ]
    }
   ],
   "source": [
    "def is_prime(n):\n",
    "    if n < 2:\n",
    "        return False\n",
    "    if n == 2:\n",
    "        return True\n",
    "    else:\n",
    "        for i in range(2, n):\n",
    "            if n % i == 0 and n != i:\n",
    "                return False\n",
    "    return True\n",
    "\n",
    "\n",
    "n = int(input(\"enter a number: \"))\n",
    "print(is_prime(n))"
   ]
  },
  {
   "cell_type": "code",
   "execution_count": null,
   "metadata": {},
   "outputs": [],
   "source": []
  },
  {
   "cell_type": "markdown",
   "metadata": {},
   "source": [
    "# 9. Write a binary search function. It should take a sorted sequence and the item it is looking for. It should return the index of the item if found. It should return -1 if the item is not found."
   ]
  },
  {
   "cell_type": "code",
   "execution_count": 31,
   "metadata": {},
   "outputs": [
    {
     "name": "stdout",
     "output_type": "stream",
     "text": [
      "enter the integer to find: 9\n",
      "6\n"
     ]
    }
   ],
   "source": [
    "def binary_search(seq, item):\n",
    "    for i in range(len(seq)):\n",
    "        if item in seq:\n",
    "            return seq.index(item)\n",
    "        else:\n",
    "            return -1\n",
    "\n",
    "\n",
    "seq_list = [1, 2, 4, 5, 6, 7, 9, 10]\n",
    "n = int(input(\"enter the integer to find: \"))\n",
    "print(binary_search(seq_list, n))"
   ]
  },
  {
   "cell_type": "code",
   "execution_count": null,
   "metadata": {},
   "outputs": [],
   "source": []
  },
  {
   "cell_type": "markdown",
   "metadata": {},
   "source": [
    "# 10. Write a function that takes camel-cased strings (i.e. ThisIsCamelCased), and converts them to snake case (i.e. this_is_camel_cased). Modify the function by adding an argument, separator, so it will also convert to the kebab case (i.e.this-is-camel-case) as well."
   ]
  },
  {
   "cell_type": "code",
   "execution_count": 36,
   "metadata": {},
   "outputs": [
    {
     "name": "stdout",
     "output_type": "stream",
     "text": [
      "These are snake case and kebeb case respectively \n",
      "('this_is_camel_cased', 'this-is-camel-cased')\n"
     ]
    }
   ],
   "source": [
    "def naming_cases(string, seperator):\n",
    "    inp = ' '\n",
    "    for i in range(1, len(string)):\n",
    "            string = ''.join(inp + x if x.isupper() else x for x in string).strip(inp).split(inp)\n",
    "            snake_case = \"_\".join(string).lower()\n",
    "            kebab_case = seperator.join(string).lower()\n",
    "            return snake_case, kebab_case\n",
    "\n",
    "\n",
    "print('These are snake case and kebeb case respectively: \\n'+str(naming_cases('ThisIsCamelCased', '-')))\n"
   ]
  },
  {
   "cell_type": "code",
   "execution_count": null,
   "metadata": {},
   "outputs": [],
   "source": []
  },
  {
   "cell_type": "code",
   "execution_count": null,
   "metadata": {},
   "outputs": [],
   "source": []
  },
  {
   "cell_type": "markdown",
   "metadata": {},
   "source": [
    "# 11. Create a variable, filename. Assuming that it has a three-letter extension, and using slice operations, find the extension. For README.txt, the extension should be txt. Write code using slice operations that will give the name without the extension. Does your code work on filenames of arbitrary length?"
   ]
  },
  {
   "cell_type": "code",
   "execution_count": 37,
   "metadata": {},
   "outputs": [
    {
     "name": "stdout",
     "output_type": "stream",
     "text": [
      "Enter a filename: README.txt\n",
      "The extension of the filename is: txt\n"
     ]
    }
   ],
   "source": [
    "filename = input(\"Enter a filename: \")\n",
    "for i in range(len(filename)):\n",
    "    if filename[i] == \".\":\n",
    "        print(\"The extension of the filename is:\", filename[i+1:])"
   ]
  },
  {
   "cell_type": "code",
   "execution_count": null,
   "metadata": {},
   "outputs": [],
   "source": []
  },
  {
   "cell_type": "markdown",
   "metadata": {},
   "source": [
    "# 12. Create a function, is_palindrome, to determine if a supplied word is the same if the letters are reversed."
   ]
  },
  {
   "cell_type": "code",
   "execution_count": 43,
   "metadata": {},
   "outputs": [
    {
     "name": "stdout",
     "output_type": "stream",
     "text": [
      "Enter a word: nepalapen\n",
      "nepalapen is palindrome\n"
     ]
    }
   ],
   "source": [
    "def is_palindrome(string):\n",
    "    new_string = string.replace(\" \", \"\")\n",
    "    if new_string.lower() == new_string[::-1].lower():\n",
    "        return string + \" is palindrome\"\n",
    "    else:\n",
    "        return string + \" is not palindrome\"\n",
    "\n",
    "\n",
    "n = input(\"Enter a word: \")\n",
    "print(is_palindrome(n))"
   ]
  },
  {
   "cell_type": "code",
   "execution_count": null,
   "metadata": {},
   "outputs": [],
   "source": []
  },
  {
   "cell_type": "code",
   "execution_count": null,
   "metadata": {},
   "outputs": [],
   "source": []
  },
  {
   "cell_type": "markdown",
   "metadata": {},
   "source": [
    "# 13. Write a function to write a comma-separated value (CSV) file. It should accept a filename and a list of tuples as parameters. The tuples should have a name, address, and age. The file should create a header row followed by a row for each tuple. \n",
    "    \n",
    "    If the following list of tuples was passed in:\n",
    "            [('George', '4312 Abbey Road', 22), ('John', '54 Love Ave', 21)] it should write the following in the  file:\n",
    "\n",
    "            name,address,age\n",
    "        George,4312 Abbey Road,22\n",
    "        John,54 Love Ave,21"
   ]
  },
  {
   "cell_type": "code",
   "execution_count": 46,
   "metadata": {},
   "outputs": [],
   "source": [
    "#importing required library\n",
    "import csv\n",
    "\n",
    "\n",
    "def csv_file(filename, my_tuple):\n",
    "    fields = ['Name', 'Degree', 'Address','Age']\n",
    "    \n",
    "    # writing to csv file\n",
    "    with open(filename, 'w') as file:\n",
    "        \n",
    "        # creating a csv writer object\n",
    "        writer = csv.writer(file)\n",
    "        writer.writerow(fields)\n",
    "        writer.writerows(my_tuple)\n",
    "\n",
    "csv_file('records.csv', [('George', 'BE','4312 Abbey Road', 22), ('John', 'BBS','54 Love Ave', 21),\n",
    "                                      ('Paul', 'MSc','2020 Park Ave', 23)])"
   ]
  },
  {
   "cell_type": "code",
   "execution_count": null,
   "metadata": {},
   "outputs": [],
   "source": []
  },
  {
   "cell_type": "code",
   "execution_count": null,
   "metadata": {},
   "outputs": [],
   "source": []
  },
  {
   "cell_type": "markdown",
   "metadata": {},
   "source": [
    "# 14.Write a function that reads a CSV file. It should return a list of dictionaries, using the first row as key names, and each subsequent row as values for those keys.\n",
    "    For the data in the previous example it would return:\n",
    "\n",
    "    [{'name': 'George', 'address': '4312 Abbey Road', 'age': 22}, {'name':'John', 'address': '54 Love Ave', 'age': 21}]"
   ]
  },
  {
   "cell_type": "code",
   "execution_count": 47,
   "metadata": {},
   "outputs": [
    {
     "name": "stdout",
     "output_type": "stream",
     "text": [
      "{'Name': 'George', 'Degree': 'BE', 'Address': '4312 Abbey Road', 'Age': '22'}\n",
      "{'Name': 'John', 'Degree': 'BBS', 'Address': '54 Love Ave', 'Age': '21'}\n",
      "{'Name': 'Paul', 'Degree': 'MSc', 'Address': '2020 Park Ave', 'Age': '23'}\n"
     ]
    }
   ],
   "source": [
    "import csv\n",
    "\n",
    "def read_csv():\n",
    "    with open(\"records.csv\", 'r') as file:\n",
    "        for line in csv.DictReader(file):\n",
    "            print(dict(line))\n",
    "\n",
    "\n",
    "read_csv()"
   ]
  },
  {
   "cell_type": "code",
   "execution_count": null,
   "metadata": {},
   "outputs": [],
   "source": []
  },
  {
   "cell_type": "markdown",
   "metadata": {},
   "source": [
    "# 15. Imagine you are designing a banking application. What would a customer look like? What attributes would she have? What methods would she have?"
   ]
  },
  {
   "cell_type": "code",
   "execution_count": 48,
   "metadata": {},
   "outputs": [
    {
     "name": "stdout",
     "output_type": "stream",
     "text": [
      "Hello!!! Welcome to our Banking Application\n",
      "Enter amount to be Deposited: 25000\n",
      "\n",
      " Amount Deposited: 25000.0\n",
      "Enter amount to be Withdrawn: 2500\n",
      "\n",
      " You Withdrew: 2500.0\n",
      "\n",
      " Net Available Balance= 22500.0\n"
     ]
    }
   ],
   "source": [
    "class BankAccount:\n",
    "    def __init__(self):\n",
    "        self.balance = 0\n",
    "        print(\"Hello!!! Welcome to our Banking Application\")\n",
    "\n",
    "    def deposit(self):\n",
    "        amount = float(input(\"Enter amount to be Deposited: \"))\n",
    "        self.balance += amount\n",
    "        print(\"\\n Amount Deposited:\", amount)\n",
    "\n",
    "    def withdraw(self):\n",
    "        amount = float(input(\"Enter amount to be Withdrawn: \"))\n",
    "        if self.balance >= amount:\n",
    "            self.balance -= amount\n",
    "            print(\"\\n You Withdrew:\", amount)\n",
    "        else:\n",
    "            print(\"\\n Insufficient balance  \")\n",
    "\n",
    "    def display(self):\n",
    "        print(\"\\n Net Available Balance=\", self.balance)\n",
    "\n",
    "\n",
    "acc = BankAccount()\n",
    "acc.deposit()\n",
    "acc.withdraw()\n",
    "acc.display()"
   ]
  },
  {
   "cell_type": "code",
   "execution_count": null,
   "metadata": {},
   "outputs": [],
   "source": []
  },
  {
   "cell_type": "code",
   "execution_count": null,
   "metadata": {},
   "outputs": [],
   "source": []
  },
  {
   "cell_type": "markdown",
   "metadata": {},
   "source": [
    "# 16. Imagine you are creating a Super Mario game. You need to define a class to represent Mario. What would it look like? If you aren't familiar with SuperMario, use your own favorite video or board game to model a player."
   ]
  },
  {
   "cell_type": "code",
   "execution_count": 53,
   "metadata": {},
   "outputs": [],
   "source": [
    "class SuperMario:\n",
    "    def __init__(self, name, position_x, position_y, lives, height, width):\n",
    "        self.name = name\n",
    "        self.position_x = position_x\n",
    "        self.position_y = position_y\n",
    "        self.lives = lives\n",
    "        self.iskilled = False\n",
    "        self.direc = \"right\"\n",
    "        self.height = height\n",
    "        self.width = width\n",
    "\n",
    "    def left_move(self, steps):\n",
    "        self.position_x -= steps\n",
    "\n",
    "    def right_move(self, steps):\n",
    "        self.position_x += steps\n",
    "\n",
    "    def up_move(self, steps):\n",
    "        self.position_y -= steps\n",
    "\n",
    "    def down_move(self, steps):\n",
    "        self.position_y += steps\n",
    "\n",
    "        \n",
    "# mario=SuperMario()\n",
    "# mario.left_move()"
   ]
  },
  {
   "cell_type": "code",
   "execution_count": null,
   "metadata": {},
   "outputs": [],
   "source": []
  },
  {
   "cell_type": "code",
   "execution_count": null,
   "metadata": {},
   "outputs": [],
   "source": []
  },
  {
   "cell_type": "markdown",
   "metadata": {},
   "source": [
    "# 17.Write a program that serves as a basic calculator. It asks for two numbers, then it asks for an operator. Gracefully deal with input that doesn't cleanly convert to numbers. Deal with division by zero errors."
   ]
  },
  {
   "cell_type": "code",
   "execution_count": 54,
   "metadata": {},
   "outputs": [
    {
     "name": "stdout",
     "output_type": "stream",
     "text": [
      "Enter a number: 2\n",
      "Enter another number: 4\n",
      "Enter a operator: +\n",
      "6\n"
     ]
    }
   ],
   "source": [
    "def calculator(num1, num2, op):\n",
    "    if op == \"+\":\n",
    "        return num1 + num2\n",
    "    elif op == \"-\":\n",
    "        return num1 - num2\n",
    "    elif op == \"*\":\n",
    "        return num1 * num2\n",
    "    else:\n",
    "        try:\n",
    "            return num1 / num2\n",
    "        except ZeroDivisionError:\n",
    "            return \"Divide by 0 Error\"\n",
    "\n",
    "\n",
    "n1 = int(input(\"Enter a number: \"))\n",
    "n2 = int(input(\"Enter another number: \"))\n",
    "operator = input(\"Enter a operator: \")\n",
    "print(calculator(n1, n2, operator))"
   ]
  },
  {
   "cell_type": "code",
   "execution_count": null,
   "metadata": {},
   "outputs": [],
   "source": []
  },
  {
   "cell_type": "code",
   "execution_count": null,
   "metadata": {},
   "outputs": [],
   "source": []
  },
  {
   "cell_type": "markdown",
   "metadata": {},
   "source": [
    "# 18.Find a package in the Python standard library for dealing with JSON. Import the library module and inspect the attributes of the module. Use the help function to learn more about how to use the module. Serialize a dictionary mapping 'name' to your name and 'age' to your age, to a JSON string. Deserialize the JSON back into Python."
   ]
  },
  {
   "cell_type": "code",
   "execution_count": 55,
   "metadata": {},
   "outputs": [
    {
     "name": "stdout",
     "output_type": "stream",
     "text": [
      "{'name': 'Ramesh', 'age': 14}\n"
     ]
    }
   ],
   "source": [
    "import json\n",
    "\n",
    "# Serializing\n",
    "info = {\n",
    "  \"name\": \"Ramesh\",\n",
    "  \"age\": 14\n",
    "}\n",
    "with open(\"info.json\", \"w\") as write_file:\n",
    "    json.dump(info, write_file)\n",
    "\n",
    "# Deserializing\n",
    "with open(\"info.json\", \"r\") as read_file:\n",
    "    result = json.load(read_file)\n",
    "print(result)"
   ]
  },
  {
   "cell_type": "code",
   "execution_count": null,
   "metadata": {},
   "outputs": [],
   "source": []
  },
  {
   "cell_type": "code",
   "execution_count": null,
   "metadata": {},
   "outputs": [],
   "source": []
  },
  {
   "cell_type": "markdown",
   "metadata": {},
   "source": [
    "# 19. Write a Python class to find validity of a string of parentheses, '(',  ')', '{', '}', '[' and ']. These brackets must be close in the correct order,  for example \"()\" and \"()[]{}\" are valid but \"[)\", \"({[)]\" and \"{{{\" are invalid"
   ]
  },
  {
   "cell_type": "code",
   "execution_count": 58,
   "metadata": {},
   "outputs": [
    {
     "name": "stdout",
     "output_type": "stream",
     "text": [
      "True\n",
      "False\n",
      "False\n",
      "True\n"
     ]
    }
   ],
   "source": [
    "class CheckerSolution:\n",
    "\n",
    "    @staticmethod\n",
    "    def is_valid(str1):\n",
    "        lst, dict1 = [], {\"(\": \")\", \"{\": \"}\", \"[\": \"]\"}\n",
    "        for p in str1:\n",
    "            if p in dict1:\n",
    "                lst.append(p)\n",
    "            elif len(lst) == 0 or dict1[lst.pop()] is not p:\n",
    "                return False\n",
    "        return len(lst) == 0\n",
    "\n",
    "\n",
    "print(CheckerSolution().is_valid(\"()\"))\n",
    "print(CheckerSolution().is_valid(\"[)\"))\n",
    "print(CheckerSolution().is_valid(\"{{{\"))\n",
    "print(CheckerSolution().is_valid(\"{{{}}}[]()\"))"
   ]
  },
  {
   "cell_type": "code",
   "execution_count": null,
   "metadata": {},
   "outputs": [],
   "source": []
  },
  {
   "cell_type": "markdown",
   "metadata": {},
   "source": [
    "# 20. Write a Python class to find the three elements that sum to zero from a list of n real numbers.\n",
    "        Input array : [-25, -10, -7, -3, 2, 4, 8, 10]\n",
    "        Output : [[-10, 2, 8], [-7, -3, 10]]"
   ]
  },
  {
   "cell_type": "code",
   "execution_count": 57,
   "metadata": {},
   "outputs": [
    {
     "name": "stdout",
     "output_type": "stream",
     "text": [
      "[[-5, 1, 4]]\n"
     ]
    }
   ],
   "source": [
    "class IsSumZero:\n",
    "\n",
    "    def func1(self, my_list):\n",
    "        list1 = []\n",
    "        final= []\n",
    "        for i in range(0, len(my_list)-2):\n",
    "            for j in range(i+1, len(my_list)-1):\n",
    "                for k in range(j+1, len(my_list)):\n",
    "                    if my_list[i] + my_list[j] + my_list[k] == 0:\n",
    "                        list1 = [my_list[i], my_list[j], my_list[k]]\n",
    "                        final.append(list1)\n",
    "        print(final)\n",
    "\n",
    "\n",
    "C1 = IsSumZero()\n",
    "C1.func1([12,3,-34,-5,-21,43,1,4])"
   ]
  },
  {
   "cell_type": "code",
   "execution_count": null,
   "metadata": {},
   "outputs": [],
   "source": []
  }
 ],
 "metadata": {
  "kernelspec": {
   "display_name": "Python 3",
   "language": "python",
   "name": "python3"
  },
  "language_info": {
   "codemirror_mode": {
    "name": "ipython",
    "version": 3
   },
   "file_extension": ".py",
   "mimetype": "text/x-python",
   "name": "python",
   "nbconvert_exporter": "python",
   "pygments_lexer": "ipython3",
   "version": "3.8.3"
  }
 },
 "nbformat": 4,
 "nbformat_minor": 4
}
