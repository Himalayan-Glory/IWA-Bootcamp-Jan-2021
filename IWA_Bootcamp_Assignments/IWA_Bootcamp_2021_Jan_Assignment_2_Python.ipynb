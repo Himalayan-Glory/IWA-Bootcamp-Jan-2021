{
 "cells": [
  {
   "cell_type": "markdown",
   "metadata": {},
   "source": [
    "------------------------------------------------------------------------------------------------------------------\n",
    "                            ---IWA_Bootcamp_Jan_2021---\n",
    "------------------------------------------------------------------------------------------------------------------------------------\n",
    "                                    Assignment-2"
   ]
  },
  {
   "cell_type": "markdown",
   "metadata": {},
   "source": [
    "## Data Types"
   ]
  },
  {
   "cell_type": "markdown",
   "metadata": {},
   "source": [
    "### 1. Write a Python program to count the number of  characters (character frequency) in a string. \n",
    "Sample String : google.com'\n",
    "\n",
    "Expected Result : {'o': 3, 'g': 2, '.': 1, 'e': 1, 'l': 1, 'm': 1, 'c': 1}"
   ]
  },
  {
   "cell_type": "code",
   "execution_count": 286,
   "metadata": {},
   "outputs": [
    {
     "name": "stdout",
     "output_type": "stream",
     "text": [
      "Enter any String to be evaluated: google.com\n",
      "{'g': 2, 'o': 3, 'l': 1, 'e': 1, '.': 1, 'c': 1, 'm': 1}\n"
     ]
    }
   ],
   "source": [
    "string=input(\"Enter any String to be evaluated: \")\n",
    "dicn={}\n",
    "\n",
    "for x in string:\n",
    "    if x in dicn:\n",
    "        dicn[x]=dicn[x] + 1 \n",
    "    else:\n",
    "        dicn[x]=1\n",
    "print(dicn)\n"
   ]
  },
  {
   "cell_type": "code",
   "execution_count": null,
   "metadata": {},
   "outputs": [],
   "source": []
  },
  {
   "cell_type": "markdown",
   "metadata": {},
   "source": [
    "### 2.​ Write a Python program to get a string made of the first 2 and the last 2 chars from a given a string. If the string length is less than 2, return instead of the empty string.\n",
    "Sample String : 'Python'\n",
    "Expected Result : 'Pyon'\n",
    "\n",
    "Sample String : 'Py'\n",
    "Expected Result : 'PyPy'\n",
    "\n",
    "Sample String : ' w'\n",
    "Expected Result : Empty String"
   ]
  },
  {
   "cell_type": "code",
   "execution_count": 21,
   "metadata": {},
   "outputs": [
    {
     "name": "stdout",
     "output_type": "stream",
     "text": [
      "The result string is : \n",
      "pyon\n"
     ]
    }
   ],
   "source": [
    "string_given='python'\n",
    "if len(string_given)<2:\n",
    "    print(\"Empty String \")\n",
    "else:\n",
    "    a=string_given[:2]\n",
    "    b=string_given[-2:]\n",
    "    \n",
    "    print(\"The result string is : \")\n",
    "    print(a+b)"
   ]
  },
  {
   "cell_type": "code",
   "execution_count": null,
   "metadata": {},
   "outputs": [],
   "source": []
  },
  {
   "cell_type": "markdown",
   "metadata": {},
   "source": [
    "### 3. ​ Write a Python program to get a string from a given string where all occurrences of its first char have been changed to 'dollor-sign',except the first char itself.\n",
    "\n",
    "Sample String : 'restart'\n",
    "\n",
    "Expected Result : 'resta$t'"
   ]
  },
  {
   "cell_type": "code",
   "execution_count": 14,
   "metadata": {},
   "outputs": [
    {
     "name": "stdout",
     "output_type": "stream",
     "text": [
      "The new string is :\n",
      "new$epal\n"
     ]
    }
   ],
   "source": [
    "string_given='newnepal'\n",
    "lis_=list(string_given)\n",
    "len_lis=len(lis_)\n",
    "for i in range(1,len_lis):\n",
    "    if lis_[i]==lis_[0]:\n",
    "        lis_[i]='$'\n",
    "print(\"The new string is :\")\n",
    "print(''.join(lis_))\n",
    "        \n"
   ]
  },
  {
   "cell_type": "code",
   "execution_count": null,
   "metadata": {},
   "outputs": [],
   "source": []
  },
  {
   "cell_type": "markdown",
   "metadata": {},
   "source": [
    "### 4.​ Write a Python program to get a single string from two given strings, separated by a space and swap the first two characters of each string.\n",
    "Sample String : 'abc', 'xyz'\n",
    "Expected Result : 'xyc abz'"
   ]
  },
  {
   "cell_type": "code",
   "execution_count": 288,
   "metadata": {},
   "outputs": [
    {
     "name": "stdout",
     "output_type": "stream",
     "text": [
      "Enter first String: abc\n",
      "Enter second String: xyz\n",
      "The result string is:  xyc abz\n"
     ]
    }
   ],
   "source": [
    "str1=str(input(\"Enter first String: \"))\n",
    "str2=str(input(\"Enter second String: \"))\n",
    "result_string= str2[0:2]+str1[2:]+' '+str1[0:2]+str2[2:]\n",
    "print(\"The result string is: \",result_string)"
   ]
  },
  {
   "cell_type": "code",
   "execution_count": null,
   "metadata": {},
   "outputs": [],
   "source": []
  },
  {
   "cell_type": "markdown",
   "metadata": {},
   "source": [
    "### 5.​ Write a Python program to add 'ing' at the end of a given string (length should be at least 3). If the given string already ends with 'ing' then add 'ly' instead. If the string length of the given string is less than 3, leave it unchanged.\n",
    "\n",
    "Sample String : 'abc'\n",
    "Expected Result : 'abcing'\n",
    "\n",
    "Sample String : 'string'\n",
    "Expected Result : 'stringly'"
   ]
  },
  {
   "cell_type": "code",
   "execution_count": 36,
   "metadata": {},
   "outputs": [
    {
     "name": "stdout",
     "output_type": "stream",
     "text": [
      "programing\n"
     ]
    }
   ],
   "source": [
    "string_provided='program'\n",
    "len_str=len(string_provided)\n",
    "if len_str<3:\n",
    "    result=string_provided\n",
    "    print(\"The result is unchanged: \",result)\n",
    "    print(\"String length should be at least 3 !!\")\n",
    "else:\n",
    "    if string_provided[-3:]=='ing':\n",
    "        result=string_provided+'ly'\n",
    "        print(result)\n",
    "    else:\n",
    "        result=string_provided+'ing'\n",
    "        print(result)\n"
   ]
  },
  {
   "cell_type": "code",
   "execution_count": null,
   "metadata": {},
   "outputs": [],
   "source": []
  },
  {
   "cell_type": "markdown",
   "metadata": {},
   "source": [
    "### 6.​ Write a Python program to find the first appearance of the substring 'not' and 'poor' from a given string, if 'not' follows the 'poor', replace the whole 'not'...'poor' substring with 'good'. Return the resulting string.\n",
    "\n",
    "Sample String : 'The lyrics is not that poor!'\n",
    "'The lyrics is poor!'\n",
    "\n",
    "Expected Result : 'The lyrics is good!'\n",
    "'The lyrics is poor!'"
   ]
  },
  {
   "cell_type": "code",
   "execution_count": 292,
   "metadata": {},
   "outputs": [
    {
     "name": "stdout",
     "output_type": "stream",
     "text": [
      "Enter the string: The lyrics is not that poor!The lyrics is poor!\n",
      "The resulting string is:  The lyrics is  that good!The lyrics is good!\n"
     ]
    }
   ],
   "source": [
    "string_given=str(input('Enter the string: '))\n",
    "lis_str=string_given.split()\n",
    "not_index=string_given.find(\"not\")\n",
    "poor_index=string_given.find(\"poor\")\n",
    "if 'not' in string_given and 'poor' in string_given and not_index < poor_index:\n",
    "    res_str=string_given.replace('not','').replace('poor','good')\n",
    "print(\"The resulting string is: \",res_str)\n",
    "\n"
   ]
  },
  {
   "cell_type": "code",
   "execution_count": null,
   "metadata": {},
   "outputs": [],
   "source": []
  },
  {
   "cell_type": "markdown",
   "metadata": {},
   "source": [
    "### 7. ​ Write a Python function that takes a list of words and returns the length of the longest one."
   ]
  },
  {
   "cell_type": "code",
   "execution_count": 72,
   "metadata": {},
   "outputs": [
    {
     "data": {
      "text/plain": [
       "8"
      ]
     },
     "execution_count": 72,
     "metadata": {},
     "output_type": "execute_result"
    }
   ],
   "source": [
    "def longest(list_):\n",
    "    len_lis=[]\n",
    "    for i in range(len(list_)):\n",
    "        len_lis.append(len(list_[i]))\n",
    "    return max(len_lis)\n",
    "longest(['cat','monkey','horse','elephant'])       "
   ]
  },
  {
   "cell_type": "code",
   "execution_count": null,
   "metadata": {},
   "outputs": [],
   "source": []
  },
  {
   "cell_type": "markdown",
   "metadata": {},
   "source": [
    "### 8. ​ Write a Python program to remove the n​ th​ index character from a nonempty string."
   ]
  },
  {
   "cell_type": "code",
   "execution_count": 1,
   "metadata": {},
   "outputs": [
    {
     "name": "stdout",
     "output_type": "stream",
     "text": [
      "Enter a String: sanjeev\n",
      "Enter the index to be removed :4\n",
      "The final String is :sanjv\n"
     ]
    }
   ],
   "source": [
    "string_=str(input(\"Enter a String: \"))\n",
    "list_=list(string_)\n",
    "n=int(input(\"Enter the index to be removed :\"))\n",
    "popped=list_.pop(n)\n",
    "result=[]\n",
    "for i in list_:\n",
    "    if i!=popped:\n",
    "        result.append(i)\n",
    "print('The final String is :'+''.join(result))\n",
    "    "
   ]
  },
  {
   "cell_type": "code",
   "execution_count": null,
   "metadata": {},
   "outputs": [],
   "source": []
  },
  {
   "cell_type": "markdown",
   "metadata": {},
   "source": [
    "### 9. ​ Write a Python program to change a given string to a new string where the first and last chars have been exchanged."
   ]
  },
  {
   "cell_type": "code",
   "execution_count": 76,
   "metadata": {},
   "outputs": [
    {
     "data": {
      "text/plain": [
       "['v', 'a', 'n', 'j', 'e', 'e', 'S']"
      ]
     },
     "execution_count": 76,
     "metadata": {},
     "output_type": "execute_result"
    }
   ],
   "source": [
    "string_given='Sanjeev'\n",
    "lis_st=list(string_given)\n",
    "a=lis_st[0]\n",
    "lis_st[0]=lis_st[-1]\n",
    "lis_st[-1]=a\n",
    "lis_st"
   ]
  },
  {
   "cell_type": "code",
   "execution_count": null,
   "metadata": {},
   "outputs": [],
   "source": []
  },
  {
   "cell_type": "markdown",
   "metadata": {},
   "source": [
    "### 10. ​ Write a Python program to remove the characters which have odd index values of a given string."
   ]
  },
  {
   "cell_type": "code",
   "execution_count": 90,
   "metadata": {},
   "outputs": [
    {
     "name": "stdout",
     "output_type": "stream",
     "text": [
      "hlosnev\n"
     ]
    }
   ],
   "source": [
    "string='hello sanjeev'\n",
    "lis_s=list(string)\n",
    "lis_n=[]\n",
    "for i in range(len(string)):\n",
    "    if i%2!=0:\n",
    "        pass\n",
    "    else:\n",
    "        lis_n.append(lis_s[i])\n",
    "print(''.join(lis_n))\n"
   ]
  },
  {
   "cell_type": "code",
   "execution_count": null,
   "metadata": {},
   "outputs": [],
   "source": []
  },
  {
   "cell_type": "markdown",
   "metadata": {},
   "source": [
    "### 11. ​ Write a Python program to count the occurrences of each word in a given sentence."
   ]
  },
  {
   "cell_type": "code",
   "execution_count": 113,
   "metadata": {},
   "outputs": [
    {
     "name": "stdout",
     "output_type": "stream",
     "text": [
      "I : 2\n",
      "python : 1\n",
      "Hello : 1\n",
      "am : 2\n",
      "learning : 1\n",
      "world. : 1\n",
      "programming. : 1\n",
      "Sanjeev. : 1\n"
     ]
    }
   ],
   "source": [
    "sentence='Hello world. I am Sanjeev. I am learning python programming.'\n",
    "sentence_l=sentence.split()\n",
    "\n",
    "for i in set(sentence_l):\n",
    "    print(i ,':', sentence_l.count(i))\n",
    "    "
   ]
  },
  {
   "cell_type": "code",
   "execution_count": null,
   "metadata": {},
   "outputs": [],
   "source": []
  },
  {
   "cell_type": "markdown",
   "metadata": {},
   "source": [
    "### 12. Write a Python script that takes input from the user and displays that input back in upper and lower cases."
   ]
  },
  {
   "cell_type": "code",
   "execution_count": 71,
   "metadata": {},
   "outputs": [
    {
     "name": "stdout",
     "output_type": "stream",
     "text": [
      "Enter any String :asdeASSD\n",
      "Your Input in UpperCase: ASDEASSD\n",
      "Your Input in LowerCase: asdeassd\n"
     ]
    }
   ],
   "source": [
    "str_=str(input(\"Enter any String :\"))\n",
    "print(\"Your Input in UpperCase: \"+ str_.upper())\n",
    "print(\"Your Input in LowerCase: \"+ str_.lower())"
   ]
  },
  {
   "cell_type": "code",
   "execution_count": null,
   "metadata": {},
   "outputs": [],
   "source": []
  },
  {
   "cell_type": "markdown",
   "metadata": {},
   "source": [
    "### 13. ​ Write a Python program that accepts a comma separated sequence of words as input and prints the unique words in sorted form (alphanumerically)."
   ]
  },
  {
   "cell_type": "code",
   "execution_count": 116,
   "metadata": {},
   "outputs": [
    {
     "name": "stdout",
     "output_type": "stream",
     "text": [
      "Input comma separated sequence of words : apple,ape,axe,appear\n",
      "Sorted Unique words: ape,appear,apple,axe\n"
     ]
    }
   ],
   "source": [
    "word_sequence = input(\"Input comma separated sequence of words : \")\n",
    "words = [word for word in word_sequence.split(\",\")]\n",
    "print('Sorted Unique words:',\",\".join(sorted(list(set(words)))))\n"
   ]
  },
  {
   "cell_type": "code",
   "execution_count": null,
   "metadata": {},
   "outputs": [],
   "source": []
  },
  {
   "cell_type": "markdown",
   "metadata": {},
   "source": [
    "### 14.​ Write a Python function to create the HTML string with tags around the word(s).\n",
    "\n",
    "Sample function and result :add_tags('i', 'Python') -> '<i>Python</i>'\n",
    "add_tags('b', 'Python Tutorial') -> '<b>Python Tutorial </b>'"
   ]
  },
  {
   "cell_type": "code",
   "execution_count": 132,
   "metadata": {},
   "outputs": [
    {
     "data": {
      "text/plain": [
       "'<i>hello</i>'"
      ]
     },
     "execution_count": 132,
     "metadata": {},
     "output_type": "execute_result"
    }
   ],
   "source": [
    "def adding_tags(tag_given,words):\n",
    "    result=\"<%s>%s</%s>\"%(tag_given,words,tag_given)\n",
    "    return result\n",
    "    \n",
    "adding_tags('i','hello')\n",
    "    "
   ]
  },
  {
   "cell_type": "code",
   "execution_count": null,
   "metadata": {},
   "outputs": [],
   "source": []
  },
  {
   "cell_type": "markdown",
   "metadata": {},
   "source": [
    "### 15.​ Write a Python function to insert a string in the middle of a string.\n",
    "\n",
    "Sample function and result :\n",
    "insert_sting_middle('[[]]<<>>', 'Python') -> [[Python]]\n",
    "insert_sting_middle('{{}}', 'PHP') -> {{PHP}}"
   ]
  },
  {
   "cell_type": "code",
   "execution_count": 141,
   "metadata": {},
   "outputs": [
    {
     "name": "stdout",
     "output_type": "stream",
     "text": [
      "hello-nepal-hello\n"
     ]
    }
   ],
   "source": [
    "def insert_string(str1,str2):\n",
    "    index_to_add=int(len(str1)/2)\n",
    "    result=str1[:index_to_add]+ str2+ str1[index_to_add:]\n",
    "    return result\n",
    "print(insert_string('hello-hello','-nepal'))"
   ]
  },
  {
   "cell_type": "code",
   "execution_count": null,
   "metadata": {},
   "outputs": [],
   "source": []
  },
  {
   "cell_type": "markdown",
   "metadata": {},
   "source": [
    "### 16.Write a Python program to sum all the items in a list."
   ]
  },
  {
   "cell_type": "code",
   "execution_count": 152,
   "metadata": {},
   "outputs": [
    {
     "name": "stdout",
     "output_type": "stream",
     "text": [
      "15\n"
     ]
    }
   ],
   "source": [
    "list_=[1,2,3,4,5]\n",
    "#list_=list(input(\"Enter list: \"))\n",
    "sum_=0\n",
    "for i in range(len(list_)):\n",
    "    sum_=sum_+int(list_[i])\n",
    "print(sum_)\n",
    "    "
   ]
  },
  {
   "cell_type": "code",
   "execution_count": null,
   "metadata": {},
   "outputs": [],
   "source": []
  },
  {
   "cell_type": "markdown",
   "metadata": {},
   "source": [
    "### 17.​ Write a Python program to multiplies all the items in a list."
   ]
  },
  {
   "cell_type": "code",
   "execution_count": 153,
   "metadata": {},
   "outputs": [
    {
     "name": "stdout",
     "output_type": "stream",
     "text": [
      "120\n"
     ]
    }
   ],
   "source": [
    "list_=[1,2,3,4,5]\n",
    "#list_=list(input(\"Enter list: \"))\n",
    "product=1\n",
    "for i in range(len(list_)):\n",
    "    product=product*int(list_[i])\n",
    "print(product)\n",
    "    "
   ]
  },
  {
   "cell_type": "code",
   "execution_count": null,
   "metadata": {},
   "outputs": [],
   "source": []
  },
  {
   "cell_type": "markdown",
   "metadata": {},
   "source": [
    "### 18.​ Write a Python program to get the largest number from a list."
   ]
  },
  {
   "cell_type": "code",
   "execution_count": 156,
   "metadata": {},
   "outputs": [
    {
     "name": "stdout",
     "output_type": "stream",
     "text": [
      "Enter a list of numbers : 1 2 3 4 5\n",
      "The largest number from the list is :  5\n"
     ]
    }
   ],
   "source": [
    "list_=list(input(\"Enter a list of numbers : \"))\n",
    "def largest(list_):\n",
    "    #a=sorted(list_)\n",
    "    list_.sort()\n",
    "    largest_num=list_[-1]\n",
    "    print(\"The largest number from the list is : \", largest_num)\n",
    "largest(list_)"
   ]
  },
  {
   "cell_type": "code",
   "execution_count": null,
   "metadata": {},
   "outputs": [],
   "source": []
  },
  {
   "cell_type": "markdown",
   "metadata": {},
   "source": [
    "### 19.​ Write a Python program to get the smallest number from a list."
   ]
  },
  {
   "cell_type": "code",
   "execution_count": 163,
   "metadata": {},
   "outputs": [
    {
     "name": "stdout",
     "output_type": "stream",
     "text": [
      "The smallest number from the list is :  4\n"
     ]
    }
   ],
   "source": [
    "#list_=list(input(\"Enter a list of numbers : \"))\n",
    "def smallest(list_):\n",
    "    #b=sorted(list_, reverse=True)\n",
    "    list_.sort(reverse=True)\n",
    "    smallestest_num=list_[-1]\n",
    "    print(\"The smallest number from the list is : \",smallestest_num)\n",
    "\n",
    "smallest([121,22,32,4,5])"
   ]
  },
  {
   "cell_type": "code",
   "execution_count": null,
   "metadata": {},
   "outputs": [],
   "source": []
  },
  {
   "cell_type": "markdown",
   "metadata": {},
   "source": [
    "### 20.​ Write a Python program to count the number of strings where the string length is 2 or more and the first and last character are same from a given list of strings.\n",
    "\n",
    "Sample List : ['abc', 'xyz', 'aba', '1221']\n",
    "Expected Result : 2"
   ]
  },
  {
   "cell_type": "code",
   "execution_count": 170,
   "metadata": {},
   "outputs": [
    {
     "name": "stdout",
     "output_type": "stream",
     "text": [
      "4\n"
     ]
    }
   ],
   "source": [
    "counter=0\n",
    "list_of_str=['hello','i am','nepali','python','programming','going','we','I','selects','rumor','12321']\n",
    "for item in list_of_str:\n",
    "    if len(item)>=2 and item[0]==item[-1]:\n",
    "        counter=counter+1\n",
    "print(counter)"
   ]
  },
  {
   "cell_type": "code",
   "execution_count": null,
   "metadata": {},
   "outputs": [],
   "source": []
  },
  {
   "cell_type": "markdown",
   "metadata": {},
   "source": [
    "### 21.​ Write a Python program to get a list, sorted in increasing order by the last element in each tuple from a given list of non-empty tuples.\n",
    "\n",
    "Sample List : [(2, 5), (1, 2), (4, 4), (2, 3), (2, 1)]Expected Result : [(2, 1), (1, 2), (2, 3), (4, 4), (2, 5)]"
   ]
  },
  {
   "cell_type": "code",
   "execution_count": 184,
   "metadata": {},
   "outputs": [
    {
     "name": "stdout",
     "output_type": "stream",
     "text": [
      "[(3, 1), (1, 2), (4, 3), (7, 4), (5, 5)]\n"
     ]
    }
   ],
   "source": [
    "given_list_of_tuple=[(1,2),(3,1),(4,3),(5,5),(7,4)]\n",
    "def Sort_Tuples_in_List(tuples):   \n",
    "    tuples.sort(key = lambda x: x[-1])   \n",
    "    return tuples   \n",
    "        \n",
    "print(Sort_Tuples_in_List(given_list_of_tuple))   "
   ]
  },
  {
   "cell_type": "code",
   "execution_count": null,
   "metadata": {},
   "outputs": [],
   "source": []
  },
  {
   "cell_type": "markdown",
   "metadata": {},
   "source": [
    "### 22. ​ Write a Python program to remove duplicates from a list."
   ]
  },
  {
   "cell_type": "code",
   "execution_count": 182,
   "metadata": {},
   "outputs": [
    {
     "name": "stdout",
     "output_type": "stream",
     "text": [
      "[1, 'dup', 'b', 50, 20, 23, 'c']\n"
     ]
    }
   ],
   "source": [
    "a = [1,1,20,23,50,50,'b','c','c','dup','dup']\n",
    "\n",
    "duplicate_items = set()\n",
    "for x in a:\n",
    "    if x not in duplicate_items:\n",
    "        duplicate_items.add(x)\n",
    "\n",
    "print(list(duplicate_items))\n"
   ]
  },
  {
   "cell_type": "code",
   "execution_count": null,
   "metadata": {},
   "outputs": [],
   "source": []
  },
  {
   "cell_type": "markdown",
   "metadata": {},
   "source": [
    "### 23. ​ Write a Python program to check a list is empty or not."
   ]
  },
  {
   "cell_type": "code",
   "execution_count": null,
   "metadata": {},
   "outputs": [],
   "source": [
    "test_list = []\n",
    "if not test_list:\n",
    "  print(\"List is empty\")\n",
    "  "
   ]
  },
  {
   "cell_type": "markdown",
   "metadata": {},
   "source": [
    "--------------OR----------------------------"
   ]
  },
  {
   "cell_type": "code",
   "execution_count": 184,
   "metadata": {},
   "outputs": [
    {
     "name": "stdout",
     "output_type": "stream",
     "text": [
      "List is empty\n"
     ]
    }
   ],
   "source": [
    "test_list=[]\n",
    "if len(test_list)==0:\n",
    "    print (\"List is empty\")\n",
    "else:\n",
    "    print (\"List is not empty\")"
   ]
  },
  {
   "cell_type": "code",
   "execution_count": null,
   "metadata": {},
   "outputs": [],
   "source": []
  },
  {
   "cell_type": "markdown",
   "metadata": {},
   "source": [
    "### 24. ​ Write a Python program to clone or copy a list."
   ]
  },
  {
   "cell_type": "code",
   "execution_count": 185,
   "metadata": {},
   "outputs": [
    {
     "name": "stdout",
     "output_type": "stream",
     "text": [
      "Enter a list :abcf\n",
      "Copied list is : ['a', 'b', 'c', 'f']\n"
     ]
    }
   ],
   "source": [
    "x=list(input(\"Enter a list :\"))\n",
    "def copy_list(list_):\n",
    "    y=list.copy(x)\n",
    "    print(\"Copied list is : \" + str(y))\n",
    "copy_list(x)"
   ]
  },
  {
   "cell_type": "code",
   "execution_count": null,
   "metadata": {},
   "outputs": [],
   "source": []
  },
  {
   "cell_type": "markdown",
   "metadata": {},
   "source": [
    "### 25.​ Write a Python program to check whether all dictionaries in a list are empty or not.\n",
    "Sample list : [{},{},{}]\n",
    "    Return value : True\n",
    "\n",
    "Sample list : [{1,2},{},{}]\n",
    "    Return value : False"
   ]
  },
  {
   "cell_type": "code",
   "execution_count": 203,
   "metadata": {},
   "outputs": [
    {
     "name": "stdout",
     "output_type": "stream",
     "text": [
      "False\n",
      "True\n"
     ]
    }
   ],
   "source": [
    "list_aa=[{'aa'},{'1':a},{}]\n",
    "list_bb=[{},{},{}]\n",
    "\n",
    "print(all(not dic for dic in list_aa))\n",
    "print(all(not dic for dic in list_bb))"
   ]
  },
  {
   "cell_type": "code",
   "execution_count": null,
   "metadata": {},
   "outputs": [],
   "source": []
  },
  {
   "cell_type": "markdown",
   "metadata": {},
   "source": [
    "### 26.​ Write a Python program to insert a given string at the beginning of all items in a list.\n",
    "Sample list : [1,2,3,4], string : emp\n",
    "\n",
    "Expected output : ['emp1', 'emp2', 'emp3', 'emp4']"
   ]
  },
  {
   "cell_type": "code",
   "execution_count": 213,
   "metadata": {},
   "outputs": [
    {
     "name": "stdout",
     "output_type": "stream",
     "text": [
      "['class-1', 'class-2', 'class-3', 'class-4', 'class-5']\n"
     ]
    }
   ],
   "source": [
    "list_xyz=[1,2,3,4,5]\n",
    "string_to_be_added='class-'\n",
    "new_list=[]\n",
    "for i in range(len(list_xyz)):\n",
    "    result=string_to_be_added+str(list_xyz[i])\n",
    "    new_list.append(result)\n",
    "print(new_list)"
   ]
  },
  {
   "cell_type": "code",
   "execution_count": null,
   "metadata": {},
   "outputs": [],
   "source": []
  },
  {
   "cell_type": "markdown",
   "metadata": {},
   "source": [
    "### 27.​ Write a Python program to replace the last element in a list with another list.\n",
    "\n",
    "Sample data : [1, 3, 5, 7, 9, 10], [2, 4, 6, 8]\n",
    "\n",
    "Expected Output: [1, 3, 5, 7, 9, 2, 4, 6, 8]"
   ]
  },
  {
   "cell_type": "code",
   "execution_count": 222,
   "metadata": {},
   "outputs": [
    {
     "name": "stdout",
     "output_type": "stream",
     "text": [
      "[1, 2, 3, 4, 1, 2, 3]\n"
     ]
    }
   ],
   "source": [
    "list_given=[1,2,3,4,5]\n",
    "to_replace_with=[1,2,3]\n",
    "\n",
    "list_given.pop()\n",
    "list_given.extend(to_replace_with)\n",
    "print(list_given)"
   ]
  },
  {
   "cell_type": "code",
   "execution_count": null,
   "metadata": {},
   "outputs": [],
   "source": []
  },
  {
   "cell_type": "markdown",
   "metadata": {},
   "source": [
    "### 28. ​ Write a Python script to add a key to a dictionary.\n",
    "\n",
    "Sample Dictionary : {0: 10, 1: 20}\n",
    "\n",
    "Expected Result : {0: 10, 1: 20, 2: 30}"
   ]
  },
  {
   "cell_type": "code",
   "execution_count": 226,
   "metadata": {},
   "outputs": [
    {
     "data": {
      "text/plain": [
       "{1: 'RAM', 2: 'HARI', 3: 'KRISHNA', 4: 'GOPAL'}"
      ]
     },
     "execution_count": 226,
     "metadata": {},
     "output_type": "execute_result"
    }
   ],
   "source": [
    "my_dictionary={1:'RAM',2:\"HARI\",3:\"KRISHNA\"}\n",
    "my_dictionary[4]=\"GOPAL\"\n",
    "my_dictionary"
   ]
  },
  {
   "cell_type": "markdown",
   "metadata": {},
   "source": [
    "--------------OR-------------------"
   ]
  },
  {
   "cell_type": "code",
   "execution_count": 228,
   "metadata": {},
   "outputs": [
    {
     "name": "stdout",
     "output_type": "stream",
     "text": [
      "{1: 2, 3: 4, 5: 6, 7: 8}\n"
     ]
    }
   ],
   "source": [
    "#using update method\n",
    "dictionary_sample= {1:2}\n",
    "to_be_added = {3:4, 5:6, 7:8}\n",
    "dictionary_sample.update(to_be_added)\n",
    "print(dictionary_sample)"
   ]
  },
  {
   "cell_type": "code",
   "execution_count": null,
   "metadata": {},
   "outputs": [],
   "source": []
  },
  {
   "cell_type": "markdown",
   "metadata": {},
   "source": [
    "### 29.​ Write a Python script to concatenate following dictionaries to create a new one.\n",
    "\n",
    "Sample Dictionary :\n",
    "dic1={1:10, 2:20}\n",
    "dic2={3:30, 4:40}\n",
    "dic3={5:50,6:60}\n",
    "\n",
    "Expected Result : {1: 10, 2: 20, 3: 30, 4: 40, 5: 50, 6: 60}"
   ]
  },
  {
   "cell_type": "code",
   "execution_count": 232,
   "metadata": {},
   "outputs": [
    {
     "name": "stdout",
     "output_type": "stream",
     "text": [
      "{1: 'a', 2: 'c', 3: 'e', 4: 'g'}\n"
     ]
    }
   ],
   "source": [
    "dict1 = {1:'a'}\n",
    "dict2 = {2:'c'}\n",
    "dict3 = {3:'e',4:'g'}\n",
    "dict4={}\n",
    "\n",
    "dict4.update(dict1)  \n",
    "dict4.update(dict2) \n",
    "dict4.update(dict3) \n",
    "print(dict4)"
   ]
  },
  {
   "cell_type": "code",
   "execution_count": null,
   "metadata": {},
   "outputs": [],
   "source": []
  },
  {
   "cell_type": "markdown",
   "metadata": {},
   "source": [
    "### 30.​ Write a Python script to check whether a given key already exists in a dictionary."
   ]
  },
  {
   "cell_type": "code",
   "execution_count": 241,
   "metadata": {},
   "outputs": [
    {
     "name": "stdout",
     "output_type": "stream",
     "text": [
      "Doesn't Exist\n"
     ]
    }
   ],
   "source": [
    "dict_test={1:'a',2:'b',3:'c'}\n",
    "key_to_be_checked=8\n",
    "if key_to_be_checked in dict_test.keys():\n",
    "    print(\"Already Exists\")\n",
    "else:\n",
    "    print(\"Doesn't Exist\")"
   ]
  },
  {
   "cell_type": "code",
   "execution_count": null,
   "metadata": {},
   "outputs": [],
   "source": []
  },
  {
   "cell_type": "markdown",
   "metadata": {},
   "source": [
    "### 31.​ Write a Python program to iterate over dictionaries using for loops."
   ]
  },
  {
   "cell_type": "code",
   "execution_count": 245,
   "metadata": {},
   "outputs": [
    {
     "name": "stdout",
     "output_type": "stream",
     "text": [
      "1 2\n",
      "2 4\n",
      "3 8\n",
      "4 16\n"
     ]
    }
   ],
   "source": [
    "my_dict={1:2,2:4,3:8,4:16}\n",
    "for k,v in my_dict.items():\n",
    "    print(k,v)"
   ]
  },
  {
   "cell_type": "code",
   "execution_count": null,
   "metadata": {},
   "outputs": [],
   "source": []
  },
  {
   "cell_type": "markdown",
   "metadata": {},
   "source": [
    "### 32.​ Write a Python script to generate and print a dictionary that contains a number (between 1 and n) in the form (x, x*x).\n",
    "\n",
    "Sample Dictionary ( n = 5) :\n",
    "\n",
    "Expected Output : {1: 1, 2: 4, 3: 9, 4: 16, 5: 25}"
   ]
  },
  {
   "cell_type": "code",
   "execution_count": 246,
   "metadata": {},
   "outputs": [
    {
     "name": "stdout",
     "output_type": "stream",
     "text": [
      "Input a number: 4\n",
      "{1: 1, 2: 4, 3: 9, 4: 16}\n"
     ]
    }
   ],
   "source": [
    "n=int(input(\"Input a number: \"))\n",
    "sq_dict={}\n",
    "\n",
    "for x in range(1,n+1):\n",
    "    sq_dict[x]=x*x\n",
    "\n",
    "print(sq_dict) \n"
   ]
  },
  {
   "cell_type": "code",
   "execution_count": null,
   "metadata": {},
   "outputs": [],
   "source": []
  },
  {
   "cell_type": "markdown",
   "metadata": {},
   "source": [
    "### 33.​ Write a Python script to print a dictionary where the keys are numbers between 1 and 15 (both included) and the values are square of keys\n",
    "\n",
    "Sample Dictionary\n",
    "{1: 1, 2: 4, 3: 9, 4: 16, 5: 25, 6: 36, 7: 49, 8: 64, 9: 81, 10: 100, 11: 121, 12: 144,\n",
    "13: 169, 14: 196, 15: 225}"
   ]
  },
  {
   "cell_type": "code",
   "execution_count": 248,
   "metadata": {},
   "outputs": [
    {
     "name": "stdout",
     "output_type": "stream",
     "text": [
      "{1: 1, 2: 4, 3: 9, 4: 16, 5: 25, 6: 36, 7: 49, 8: 64, 9: 81, 10: 100, 11: 121, 12: 144, 13: 169, 14: 196, 15: 225}\n"
     ]
    }
   ],
   "source": [
    "dict_square={}\n",
    "for i in range(1,15+1):\n",
    "    dict_square[i]=i*i\n",
    "print(dict_square)    "
   ]
  },
  {
   "cell_type": "code",
   "execution_count": null,
   "metadata": {},
   "outputs": [],
   "source": []
  },
  {
   "cell_type": "markdown",
   "metadata": {},
   "source": [
    "### 34.​ Write a Python script to merge two Python dictionaries."
   ]
  },
  {
   "cell_type": "code",
   "execution_count": 252,
   "metadata": {},
   "outputs": [
    {
     "name": "stdout",
     "output_type": "stream",
     "text": [
      "{1: 'a', 2: 'b', 3: 'c'}\n"
     ]
    }
   ],
   "source": [
    "dict_1={1:'a',2:'b'}\n",
    "dict_2={3:'c'}\n",
    "dict_new={}\n",
    "dict_new.update(dict_1)\n",
    "dict_new.update(dict_2)\n",
    "print(dict_new)"
   ]
  },
  {
   "cell_type": "code",
   "execution_count": null,
   "metadata": {},
   "outputs": [],
   "source": []
  },
  {
   "cell_type": "markdown",
   "metadata": {},
   "source": [
    "### 35.​ Write a Python program to iterate over dictionaries using for loops."
   ]
  },
  {
   "cell_type": "code",
   "execution_count": 337,
   "metadata": {},
   "outputs": [
    {
     "name": "stdout",
     "output_type": "stream",
     "text": [
      "1 cat\n",
      "2 rat\n",
      "3 hat\n",
      "4 fat\n",
      "Keys are : [1, 2, 3, 4]\n",
      "Values are :['cat', 'rat', 'hat', 'fat']\n"
     ]
    }
   ],
   "source": [
    "my_dictionary={1:'cat',2:'rat',3:'hat',4:'fat'}\n",
    "keys=[]\n",
    "values=[]\n",
    "for k,v in my_dictionary.items():\n",
    "    print(k,v)\n",
    "    keys.append(k)\n",
    "    values.append(v)\n",
    "print(\"Keys are : \" + str(keys))\n",
    "print(\"Values are :\" + str(values))\n",
    "    "
   ]
  },
  {
   "cell_type": "code",
   "execution_count": null,
   "metadata": {},
   "outputs": [],
   "source": []
  },
  {
   "cell_type": "markdown",
   "metadata": {},
   "source": [
    "### 36.​ Write a Python program to sum all the items in a dictionary."
   ]
  },
  {
   "cell_type": "code",
   "execution_count": 350,
   "metadata": {},
   "outputs": [
    {
     "name": "stdout",
     "output_type": "stream",
     "text": [
      "dict_items([('a', 1), ('b', 2), ('c', 3), ('d', 4)])\n",
      "dict_keys(['a', 'b', 'c', 'd'])\n",
      "dict_values([1, 2, 3, 4])\n",
      "Sum of all items value is : 10\n"
     ]
    }
   ],
   "source": [
    "dictn={'a':1,'b':2,'c':3,'d':4}\n",
    "print(dictn.items())\n",
    "print(dictn.keys())\n",
    "print(dictn.values())\n",
    "res=sum(dictn.values())\n",
    "print('Sum of all items value is : '+ str(res))"
   ]
  },
  {
   "cell_type": "code",
   "execution_count": null,
   "metadata": {},
   "outputs": [],
   "source": []
  },
  {
   "cell_type": "markdown",
   "metadata": {},
   "source": [
    "### 37.​ Write a Python program to multiply all the items in a dictionary."
   ]
  },
  {
   "cell_type": "code",
   "execution_count": 348,
   "metadata": {},
   "outputs": [
    {
     "name": "stdout",
     "output_type": "stream",
     "text": [
      "Product of all items value is : 24\n"
     ]
    }
   ],
   "source": [
    "dictn={'a':1,'b':2,'c':3,'d':4}\n",
    "prod=1\n",
    "for i in dictn:\n",
    "    prod=prod*dictn[i]\n",
    "print('Product of all items value is : '+ str(prod))"
   ]
  },
  {
   "cell_type": "code",
   "execution_count": null,
   "metadata": {},
   "outputs": [],
   "source": []
  },
  {
   "cell_type": "markdown",
   "metadata": {},
   "source": [
    "### 38.​ Write a Python program to remove a key from a dictionary."
   ]
  },
  {
   "cell_type": "code",
   "execution_count": 358,
   "metadata": {},
   "outputs": [
    {
     "data": {
      "text/plain": [
       "{'LMJ': -66, 'KSK': -61, 'GRK': -64}"
      ]
     },
     "execution_count": 358,
     "metadata": {},
     "output_type": "execute_result"
    }
   ],
   "source": [
    "dict1={'LMJ':0-66,'KSK':0-61,'GRK':0-64}\n",
    "if 'MNG' in dict1: \n",
    "    del dict1['MNG']\n",
    "dict1"
   ]
  },
  {
   "cell_type": "code",
   "execution_count": 359,
   "metadata": {},
   "outputs": [
    {
     "data": {
      "text/plain": [
       "{'KSK': -61, 'GRK': -64}"
      ]
     },
     "execution_count": 359,
     "metadata": {},
     "output_type": "execute_result"
    }
   ],
   "source": [
    "dict1.pop('LMJ')\n",
    "dict1"
   ]
  },
  {
   "cell_type": "code",
   "execution_count": null,
   "metadata": {},
   "outputs": [],
   "source": []
  },
  {
   "cell_type": "markdown",
   "metadata": {},
   "source": [
    "### 39.​ Write a Python program to unpack a tuple in several variables."
   ]
  },
  {
   "cell_type": "code",
   "execution_count": 371,
   "metadata": {},
   "outputs": [
    {
     "name": "stdout",
     "output_type": "stream",
     "text": [
      "3 5 7\n",
      "1 2 4 6 8\n"
     ]
    }
   ],
   "source": [
    "tup1=(3,5,7)\n",
    "a,b,c=tup1\n",
    "print(a, b, c)\n",
    "\n",
    "tup2=1,2,4,6,8\n",
    "p,q,r,s,t=tup2\n",
    "print(p,  q,  r,  s,  t)"
   ]
  },
  {
   "cell_type": "code",
   "execution_count": null,
   "metadata": {},
   "outputs": [],
   "source": []
  },
  {
   "cell_type": "code",
   "execution_count": null,
   "metadata": {},
   "outputs": [],
   "source": []
  },
  {
   "cell_type": "markdown",
   "metadata": {},
   "source": [
    "### 40.​ Write a Python program to add an item in a tuple."
   ]
  },
  {
   "cell_type": "code",
   "execution_count": 332,
   "metadata": {},
   "outputs": [
    {
     "name": "stdout",
     "output_type": "stream",
     "text": [
      "(1, 2, 3, 4, 5, 6)\n"
     ]
    }
   ],
   "source": [
    "tuple_xyz=(1,2,3)\n",
    "tuple_xyz=tuple_xyz+(4,5)+(6,)\n",
    "print(tuple_xyz)"
   ]
  },
  {
   "cell_type": "code",
   "execution_count": null,
   "metadata": {},
   "outputs": [],
   "source": []
  },
  {
   "cell_type": "markdown",
   "metadata": {},
   "source": [
    "### 41.​ Write a Python program to convert a tuple to a string."
   ]
  },
  {
   "cell_type": "code",
   "execution_count": 321,
   "metadata": {},
   "outputs": [
    {
     "name": "stdout",
     "output_type": "stream",
     "text": [
      "avrps\n"
     ]
    }
   ],
   "source": [
    "tuple_new=('a','v','r','p','s')\n",
    "tpl_to_str=''.join(tuple_new)\n",
    "print(tpl_to_str)"
   ]
  },
  {
   "cell_type": "markdown",
   "metadata": {},
   "source": [
    "------------OR-----------------------"
   ]
  },
  {
   "cell_type": "code",
   "execution_count": 327,
   "metadata": {},
   "outputs": [
    {
     "name": "stdout",
     "output_type": "stream",
     "text": [
      "12345santrat,abc\n"
     ]
    }
   ],
   "source": [
    "tupl=(1,2,3,4,5,'s','ant','rat',',','abc')\n",
    "print(''.join(map(str, tupl)))"
   ]
  },
  {
   "cell_type": "code",
   "execution_count": null,
   "metadata": {},
   "outputs": [],
   "source": []
  },
  {
   "cell_type": "markdown",
   "metadata": {},
   "source": [
    "### 42.​ Write a Python program to convert a list to a tuple."
   ]
  },
  {
   "cell_type": "code",
   "execution_count": 317,
   "metadata": {},
   "outputs": [
    {
     "name": "stdout",
     "output_type": "stream",
     "text": [
      "(1, 2, 3, 4, 5)\n"
     ]
    }
   ],
   "source": [
    "list_aaa=[1,2,3,4,5]\n",
    "tuple_aaa=tuple(list_aaa)\n",
    "print(tuple_aaa)"
   ]
  },
  {
   "cell_type": "code",
   "execution_count": null,
   "metadata": {},
   "outputs": [],
   "source": []
  },
  {
   "cell_type": "markdown",
   "metadata": {},
   "source": [
    "### 43.​ Write a Python program to remove an item from a tuple."
   ]
  },
  {
   "cell_type": "code",
   "execution_count": 315,
   "metadata": {},
   "outputs": [
    {
     "name": "stdout",
     "output_type": "stream",
     "text": [
      "(2, 3, 5, 6)\n"
     ]
    }
   ],
   "source": [
    "new_tuple=(2,3,4,5,6)\n",
    "a=[]\n",
    "for i in new_tuple:\n",
    "    a.append(i)\n",
    "a.remove(4)\n",
    "a=tuple(a)\n",
    "print(a)"
   ]
  },
  {
   "cell_type": "code",
   "execution_count": null,
   "metadata": {},
   "outputs": [],
   "source": []
  },
  {
   "cell_type": "code",
   "execution_count": null,
   "metadata": {},
   "outputs": [],
   "source": []
  },
  {
   "cell_type": "markdown",
   "metadata": {},
   "source": [
    "### 44.​ Write a Python program to slice a tuple."
   ]
  },
  {
   "cell_type": "code",
   "execution_count": 293,
   "metadata": {},
   "outputs": [
    {
     "name": "stdout",
     "output_type": "stream",
     "text": [
      "(4, 5, 6, 7, 8)\n",
      "(5, 6, 7, 8, 9, 10)\n",
      "(1, 2, 3, 4, 5, 6, 7, 8, 9, 10)\n",
      "(1, 2, 3, 4, 5, 6, 7)\n",
      "(1, 4, 7)\n",
      "(1, 3, 5, 7, 9)\n",
      "()\n",
      "(7, 8, 9)\n",
      "(6, 4)\n"
     ]
    }
   ],
   "source": [
    "tuple_test=(1,2,3,4,5,6,7,8,9,10)\n",
    "#different ways of slicing \n",
    "print(tuple_test[3:8]) #between a range\n",
    "print(tuple_test[4:]) #after some index\n",
    "print(tuple_test[:]) #all\n",
    "print(tuple_test[:7]) #upto index 7\n",
    "print(tuple_test[0:9:3]) #between a range with some interval in between\n",
    "print(tuple_test[::2]) #all with intervals of 2 index\n",
    "print(tuple_test[-1:-4]) #from last index(-1) to 4th last (-4) index..here no any values in this slice\n",
    "print(tuple_test[-4:-1]) #just reverse of previous, from 4th last to last index\n",
    "print(tuple_test[5:2:-2]) #from 5th index to 2nd index with decrement of index 2"
   ]
  },
  {
   "cell_type": "code",
   "execution_count": null,
   "metadata": {},
   "outputs": [],
   "source": []
  },
  {
   "cell_type": "markdown",
   "metadata": {},
   "source": [
    "### 45.​ Write a Python program to find the index of an item of a tuple."
   ]
  },
  {
   "cell_type": "code",
   "execution_count": 273,
   "metadata": {},
   "outputs": [
    {
     "name": "stdout",
     "output_type": "stream",
     "text": [
      "Index of given element is: 5\n"
     ]
    }
   ],
   "source": [
    "tuple_1=(1,2,3,4,5,'a',7)\n",
    "index_=tuple_1.index('a')\n",
    "print('Index of given element is: '+str(index_))"
   ]
  },
  {
   "cell_type": "code",
   "execution_count": null,
   "metadata": {},
   "outputs": [],
   "source": []
  },
  {
   "cell_type": "markdown",
   "metadata": {},
   "source": [
    "### 46.​ Write a Python program to find the length of a tuple"
   ]
  },
  {
   "cell_type": "code",
   "execution_count": 257,
   "metadata": {},
   "outputs": [
    {
     "name": "stdout",
     "output_type": "stream",
     "text": [
      "length of my tuple is: 3\n"
     ]
    }
   ],
   "source": [
    "my_tuple=(1,2,3)\n",
    "print('length of my tuple is: '+ str(len(my_tuple)))"
   ]
  },
  {
   "cell_type": "code",
   "execution_count": null,
   "metadata": {},
   "outputs": [],
   "source": []
  },
  {
   "cell_type": "markdown",
   "metadata": {},
   "source": [
    "# Functions"
   ]
  },
  {
   "cell_type": "markdown",
   "metadata": {},
   "source": [
    "### 1.​ Write a Python function to find the Max of three numbers."
   ]
  },
  {
   "cell_type": "code",
   "execution_count": null,
   "metadata": {},
   "outputs": [],
   "source": [
    "    "
   ]
  },
  {
   "cell_type": "code",
   "execution_count": 133,
   "metadata": {},
   "outputs": [
    {
     "data": {
      "text/plain": [
       "3"
      ]
     },
     "execution_count": 133,
     "metadata": {},
     "output_type": "execute_result"
    }
   ],
   "source": [
    "def maximum(a, b, c):\n",
    "    if (a >= b) and (a >= c): \n",
    "        largest = a \n",
    "  \n",
    "    elif (b >= a) and (b >= c): \n",
    "        largest = b \n",
    "    else: \n",
    "        largest = c \n",
    "          \n",
    "    return largest \n",
    "maximum(1,2,3)"
   ]
  },
  {
   "cell_type": "markdown",
   "metadata": {},
   "source": [
    "----------------OR--------------------------"
   ]
  },
  {
   "cell_type": "code",
   "execution_count": 134,
   "metadata": {},
   "outputs": [
    {
     "data": {
      "text/plain": [
       "88"
      ]
     },
     "execution_count": 134,
     "metadata": {},
     "output_type": "execute_result"
    }
   ],
   "source": [
    "def maximum(a, b, c): \n",
    "    list = [a, b, c] \n",
    "    return max(list) \n",
    "maximum(87,88,79)"
   ]
  },
  {
   "cell_type": "code",
   "execution_count": null,
   "metadata": {},
   "outputs": [],
   "source": []
  },
  {
   "cell_type": "markdown",
   "metadata": {},
   "source": [
    "### 2.​ Write a Python function to sum all the numbers in a list.\n",
    "Sample List : ​ (8, 2, 3, 0, 7)\n",
    "Expected Output ​ : 20"
   ]
  },
  {
   "cell_type": "code",
   "execution_count": 137,
   "metadata": {},
   "outputs": [
    {
     "data": {
      "text/plain": [
       "15"
      ]
     },
     "execution_count": 137,
     "metadata": {},
     "output_type": "execute_result"
    }
   ],
   "source": [
    "def sum_of_list(list_):\n",
    "    sum_=0\n",
    "    for i in range(len(list_)):\n",
    "        sum_=sum_+list_[i]\n",
    "    return sum_\n",
    "sum_of_list([1,2,3,4,5])"
   ]
  },
  {
   "cell_type": "code",
   "execution_count": null,
   "metadata": {},
   "outputs": [],
   "source": []
  },
  {
   "cell_type": "code",
   "execution_count": null,
   "metadata": {},
   "outputs": [],
   "source": []
  },
  {
   "cell_type": "markdown",
   "metadata": {},
   "source": [
    "### 3.​ Write a Python function to multiply all the numbers in a list.\n",
    "Sample List : ​ (8, 2, 3, -1, 7)\n",
    "Expected Output ​ : -336"
   ]
  },
  {
   "cell_type": "code",
   "execution_count": 138,
   "metadata": {},
   "outputs": [
    {
     "data": {
      "text/plain": [
       "120"
      ]
     },
     "execution_count": 138,
     "metadata": {},
     "output_type": "execute_result"
    }
   ],
   "source": [
    "def product_of_list(list_):\n",
    "    product=1\n",
    "    for i in range(len(list_)):\n",
    "        product=product*list_[i]\n",
    "    return product\n",
    "product_of_list([1,2,3,4,5])"
   ]
  },
  {
   "cell_type": "code",
   "execution_count": null,
   "metadata": {},
   "outputs": [],
   "source": []
  },
  {
   "cell_type": "code",
   "execution_count": null,
   "metadata": {},
   "outputs": [],
   "source": []
  },
  {
   "cell_type": "markdown",
   "metadata": {},
   "source": [
    "### 4.​ Write a Python program to reverse a string.\n",
    "Sample String ​ : \"1234abcd\"\n",
    "Expected Output ​ : \"dcba4321\""
   ]
  },
  {
   "cell_type": "code",
   "execution_count": 140,
   "metadata": {},
   "outputs": [
    {
     "data": {
      "text/plain": [
       "'veejnas'"
      ]
     },
     "execution_count": 140,
     "metadata": {},
     "output_type": "execute_result"
    }
   ],
   "source": [
    "def string_reverse(string):\n",
    "    r_string=string[::-1]\n",
    "    return r_string\n",
    "string_reverse('sanjeev')"
   ]
  },
  {
   "cell_type": "code",
   "execution_count": null,
   "metadata": {},
   "outputs": [],
   "source": []
  },
  {
   "cell_type": "code",
   "execution_count": null,
   "metadata": {},
   "outputs": [],
   "source": []
  },
  {
   "cell_type": "markdown",
   "metadata": {},
   "source": [
    "### 5.​ Write a Python function to calculate the factorial of a number (a non-negative integer). \n",
    "The function accepts the number as an argument."
   ]
  },
  {
   "cell_type": "code",
   "execution_count": 263,
   "metadata": {},
   "outputs": [
    {
     "name": "stdout",
     "output_type": "stream",
     "text": [
      "Factorial  of 6 is : 720\n"
     ]
    }
   ],
   "source": [
    "def fact(n):\n",
    "    fact=1\n",
    "    i=1\n",
    "    for i in range(1,n+1):\n",
    "        fact=fact*i\n",
    "    print(\"Factorial  of {0} is : {1}\".format(n,fact))\n",
    "fact(6)"
   ]
  },
  {
   "cell_type": "code",
   "execution_count": null,
   "metadata": {},
   "outputs": [],
   "source": []
  },
  {
   "cell_type": "markdown",
   "metadata": {},
   "source": [
    "### 6.​ Write a Python function to check whether a number is in a given range."
   ]
  },
  {
   "cell_type": "code",
   "execution_count": 188,
   "metadata": {},
   "outputs": [
    {
     "name": "stdout",
     "output_type": "stream",
     "text": [
      "True\n",
      "False\n"
     ]
    }
   ],
   "source": [
    "def check_in_range(num):\n",
    "    if num in range(4,15):\n",
    "        return True\n",
    "    else:\n",
    "        return False\n",
    "print(check_in_range(6))\n",
    "print(check_in_range(2))"
   ]
  },
  {
   "cell_type": "code",
   "execution_count": 259,
   "metadata": {},
   "outputs": [],
   "source": [
    "# def check_in_range(n,a,b):\n",
    "#     rang=[]\n",
    "#     for i in range(a,b):\n",
    "#         rang.append(i)\n",
    "#         if a<=i<=b:\n",
    "#             print('Yes, it is in range')\n",
    "       \n",
    "# check_in_range(1,4,6)"
   ]
  },
  {
   "cell_type": "code",
   "execution_count": null,
   "metadata": {},
   "outputs": [],
   "source": []
  },
  {
   "cell_type": "markdown",
   "metadata": {},
   "source": [
    "### 7.​ Write a Python function that accepts a string and calculate the number of upper case letters and lower case letters.\n",
    "\n",
    "Sample String ​ : 'The quick Brow Fox'\n",
    "Expected Output : ​\n",
    "No. of Upper case characters : 3\n",
    "No. of Lower case Characters : 12"
   ]
  },
  {
   "cell_type": "code",
   "execution_count": 189,
   "metadata": {},
   "outputs": [
    {
     "name": "stdout",
     "output_type": "stream",
     "text": [
      "No. of Uppercase:  3\n",
      "No. of Lowercase:  12\n"
     ]
    }
   ],
   "source": [
    "def CaseCounter(string):\n",
    "    up_count=0\n",
    "    lw_count=0\n",
    "    for char in string:\n",
    "        if char.isupper():\n",
    "            up_count+=1\n",
    "        elif char.islower():\n",
    "            lw_count+=1\n",
    "    print(\"No. of Uppercase: \",up_count)\n",
    "    print(\"No. of Lowercase: \",lw_count)\n",
    "CaseCounter('Hello, I am Sanjeev')"
   ]
  },
  {
   "cell_type": "code",
   "execution_count": null,
   "metadata": {},
   "outputs": [],
   "source": []
  },
  {
   "cell_type": "markdown",
   "metadata": {},
   "source": [
    "### 8.​ Write a Python function that takes a list and returns a new list with unique elements of the first list.\n",
    "\n",
    "Sample List : ​ [1,2,3,3,3,3,4,5]\n",
    "Unique List : ​ [1, 2, 3, 4, 5]"
   ]
  },
  {
   "cell_type": "code",
   "execution_count": 190,
   "metadata": {},
   "outputs": [
    {
     "name": "stdout",
     "output_type": "stream",
     "text": [
      "[1, 2, 3, 4, 5]\n"
     ]
    }
   ],
   "source": [
    "def unique_elements_list(my_list):\n",
    "    unique=set(my_list)\n",
    "    return list(unique)\n",
    "print(unique_elements_list([1,2,2,3,3,3,3,4,5]))"
   ]
  },
  {
   "cell_type": "code",
   "execution_count": null,
   "metadata": {},
   "outputs": [],
   "source": []
  },
  {
   "cell_type": "markdown",
   "metadata": {},
   "source": [
    "### 9.​ Write a Python function that takes a number as a parameter and check the number is prime or not.\n",
    "Note : A prime number (or a prime) is a natural number greater than 1 and that\n",
    "has no positive divisors other than 1 and itself."
   ]
  },
  {
   "cell_type": "code",
   "execution_count": 191,
   "metadata": {},
   "outputs": [
    {
     "name": "stdout",
     "output_type": "stream",
     "text": [
      "True\n",
      "False\n"
     ]
    }
   ],
   "source": [
    "def test_prime_num(n):\n",
    "    if (n==1):\n",
    "        return False\n",
    "    elif (n==2):\n",
    "        return True;\n",
    "    else:\n",
    "        for x in range(2,n):\n",
    "            if(n % x==0):\n",
    "                return False\n",
    "        return True             \n",
    "print(test_prime_num(7))\n",
    "print(test_prime_num(12))"
   ]
  },
  {
   "cell_type": "code",
   "execution_count": null,
   "metadata": {},
   "outputs": [],
   "source": []
  },
  {
   "cell_type": "markdown",
   "metadata": {},
   "source": [
    "### 10.​ Write a Python program to print the even numbers from a given list.\n",
    "\n",
    "Sample List : ​ [1, 2, 3, 4, 5, 6, 7, 8, 9]\n",
    "Expected Result ​ : [2, 4, 6, 8]"
   ]
  },
  {
   "cell_type": "code",
   "execution_count": 192,
   "metadata": {},
   "outputs": [
    {
     "name": "stdout",
     "output_type": "stream",
     "text": [
      "Even Numbers from the list are : [2, 4, 6]\n"
     ]
    }
   ],
   "source": [
    "def even(list_):\n",
    "    even_list=[]\n",
    "    for item in list_:\n",
    "        if item%2==0:\n",
    "            even_list.append(item)\n",
    "    print(\"Even Numbers from the list are :\",even_list)\n",
    "even([1,2,3,4,5,6])\n",
    "        \n",
    "        "
   ]
  },
  {
   "cell_type": "code",
   "execution_count": null,
   "metadata": {},
   "outputs": [],
   "source": []
  },
  {
   "cell_type": "markdown",
   "metadata": {},
   "source": [
    "### 11.​ Write a Python program to create a lambda function that adds 15 to a given number passed in as an argument, also create a lambda function that multiplies argument x with argument y and print the result."
   ]
  },
  {
   "cell_type": "code",
   "execution_count": 193,
   "metadata": {},
   "outputs": [
    {
     "name": "stdout",
     "output_type": "stream",
     "text": [
      "21\n"
     ]
    }
   ],
   "source": [
    "add_15=lambda m:m+15\n",
    "print(add_15(6))"
   ]
  },
  {
   "cell_type": "code",
   "execution_count": 194,
   "metadata": {},
   "outputs": [
    {
     "name": "stdout",
     "output_type": "stream",
     "text": [
      "40\n"
     ]
    }
   ],
   "source": [
    "multiply_x_y=lambda x,y:x*y\n",
    "print(multiply_x_y(5,8))"
   ]
  },
  {
   "cell_type": "code",
   "execution_count": null,
   "metadata": {},
   "outputs": [],
   "source": []
  },
  {
   "cell_type": "markdown",
   "metadata": {},
   "source": [
    "### 12.​ Write a Python program to create a function that takes one argument, and that argument will be multiplied with an unknown given number.\n"
   ]
  },
  {
   "cell_type": "code",
   "execution_count": 195,
   "metadata": {},
   "outputs": [
    {
     "name": "stdout",
     "output_type": "stream",
     "text": [
      "Enter any number: 6\n",
      "72\n"
     ]
    }
   ],
   "source": [
    "def multiply_one_arg(arg_num):\n",
    "    given_num=int(input('Enter any number: '))\n",
    "    return given_num*arg_num\n",
    "print(multiply_one_arg(12))"
   ]
  },
  {
   "cell_type": "code",
   "execution_count": null,
   "metadata": {},
   "outputs": [],
   "source": []
  },
  {
   "cell_type": "markdown",
   "metadata": {},
   "source": [
    "### 13.​ Write a Python program to sort a list of tuples using Lambda."
   ]
  },
  {
   "cell_type": "code",
   "execution_count": 258,
   "metadata": {},
   "outputs": [
    {
     "data": {
      "text/plain": [
       "[(8, 1), (1, 2), (3, 4), (2, 9)]"
      ]
     },
     "execution_count": 258,
     "metadata": {},
     "output_type": "execute_result"
    }
   ],
   "source": [
    "given_list=[(1,2),(3,4),(2,9),(8,1)]\n",
    "sorting_list=given_list.sort(key = lambda x: x[1])\n",
    "given_list"
   ]
  },
  {
   "cell_type": "code",
   "execution_count": null,
   "metadata": {},
   "outputs": [],
   "source": []
  },
  {
   "cell_type": "markdown",
   "metadata": {},
   "source": [
    "### 14.​ Write a Python program to sort a list of dictionaries using Lambda."
   ]
  },
  {
   "cell_type": "code",
   "execution_count": 213,
   "metadata": {},
   "outputs": [
    {
     "name": "stdout",
     "output_type": "stream",
     "text": [
      "The list  sorted by Class: \n",
      "[{'Name': 'Arun', 'Class': 2}, {'Name': 'Ram', 'Class': 5}, {'Name': 'Barun', 'Class': 9}]\n",
      "The list  sorted by Name: \n",
      "[{'Name': 'Arun', 'Class': 2}, {'Name': 'Barun', 'Class': 9}, {'Name': 'Ram', 'Class': 5}]\n"
     ]
    }
   ],
   "source": [
    "lis_of_dict = [{ \"Name\" : \"Ram\", \"Class\" : 5}, { \"Name\" : \"Arun\", \"Class\" : 2}, { \"Name\" : \"Barun\" , \"Class\" : 9 }]\n",
    " \n",
    "#sorting  by Class\n",
    "print (\"The list  sorted by Class: \")\n",
    "print (sorted(lis_of_dict, key = lambda i: i['Class']))\n",
    "\n",
    "#sorting  by Name\n",
    "print (\"The list  sorted by Name: \")\n",
    "print (sorted(lis_of_dict, key = lambda i: i['Name']))\n",
    "\n"
   ]
  },
  {
   "cell_type": "code",
   "execution_count": null,
   "metadata": {},
   "outputs": [],
   "source": []
  },
  {
   "cell_type": "markdown",
   "metadata": {},
   "source": [
    "### 15.​ Write a Python program to filter a list of integers using Lambda."
   ]
  },
  {
   "cell_type": "code",
   "execution_count": 249,
   "metadata": {},
   "outputs": [
    {
     "name": "stdout",
     "output_type": "stream",
     "text": [
      "[2, 4, 6, 8, 10]\n",
      "[2, 4, 6, 8, 10]\n",
      "[1, 2, 3, 4]\n",
      "[3, 6, 9]\n"
     ]
    }
   ],
   "source": [
    "list_given=[1,2,3,4,5,6,7,8,9,10]\n",
    "even_numbers = list(filter(lambda x: x%2 == 0, list_given))\n",
    "odd_numbers = list(filter(lambda x: x%2 == 0, list_given))\n",
    "less_than_five=list(filter(lambda x: x<5, list_given))\n",
    "multiple_of_three=list(filter(lambda x:x%3==0,list_given))\n",
    "print(even_numbers)\n",
    "print(odd_numbers)\n",
    "print(less_than_five)\n",
    "print(multiple_of_three)\n"
   ]
  },
  {
   "cell_type": "code",
   "execution_count": null,
   "metadata": {},
   "outputs": [],
   "source": []
  },
  {
   "cell_type": "markdown",
   "metadata": {},
   "source": [
    "### 16.​ Write a Python program to square and cube every number in a given list of integers using Lambda."
   ]
  },
  {
   "cell_type": "code",
   "execution_count": 246,
   "metadata": {},
   "outputs": [
    {
     "name": "stdout",
     "output_type": "stream",
     "text": [
      "List of Squares:  [1, 4, 9, 16, 25, 36, 49, 64, 81, 100]\n",
      "List of Cubes:  [1, 8, 27, 64, 125, 216, 343, 512, 729, 1000]\n"
     ]
    }
   ],
   "source": [
    "list_given=[1,2,3,4,5,6,7,8,9,10]\n",
    "square_nums = list(map(lambda p: p ** 2, list_given))\n",
    "print(\"List of Squares: \",square_nums)\n",
    "\n",
    "cube_nums = list(map(lambda q: q ** 3, list_given))\n",
    "print(\"List of Cubes: \",cube_nums)\n"
   ]
  },
  {
   "cell_type": "code",
   "execution_count": null,
   "metadata": {},
   "outputs": [],
   "source": []
  },
  {
   "cell_type": "markdown",
   "metadata": {},
   "source": [
    "### 17.​ Write a Python program to find if a given string starts with a given character using Lambda."
   ]
  },
  {
   "cell_type": "code",
   "execution_count": 242,
   "metadata": {},
   "outputs": [
    {
     "name": "stdout",
     "output_type": "stream",
     "text": [
      "True\n",
      "False\n"
     ]
    }
   ],
   "source": [
    "starts_with = lambda m: True if m.startswith('P') else False\n",
    "print(starts_with(\"Python\"))\n",
    "print(starts_with(\"Nepal\"))"
   ]
  },
  {
   "cell_type": "code",
   "execution_count": null,
   "metadata": {},
   "outputs": [],
   "source": []
  },
  {
   "cell_type": "markdown",
   "metadata": {},
   "source": [
    "### 18.​ Write a Python program to check whether a given string is number or not using Lambda."
   ]
  },
  {
   "cell_type": "code",
   "execution_count": 237,
   "metadata": {},
   "outputs": [
    {
     "name": "stdout",
     "output_type": "stream",
     "text": [
      "False\n",
      "True\n"
     ]
    }
   ],
   "source": [
    "check_string_num=lambda x:True if x.isnumeric() else False  # or isdigit() 0r isnumber() or isdecimal\n",
    "print(check_string_num('abcd'))\n",
    "print(check_string_num('1234'))\n",
    "# print(check_string_num('-1111'))\n",
    "# print(check_string_num('897.5'))"
   ]
  },
  {
   "cell_type": "code",
   "execution_count": null,
   "metadata": {},
   "outputs": [],
   "source": []
  },
  {
   "cell_type": "markdown",
   "metadata": {},
   "source": [
    "### 19.​ Write a Python program to create Fibonacci series upto n using Lambda."
   ]
  },
  {
   "cell_type": "code",
   "execution_count": 238,
   "metadata": {},
   "outputs": [
    {
     "name": "stdout",
     "output_type": "stream",
     "text": [
      "Enter n: 5\n",
      "Fibonacci series upto 5 :\n",
      "[0, 1, 1, 2, 3]\n"
     ]
    }
   ],
   "source": [
    "from functools import reduce\n",
    " \n",
    "fibo_series = lambda n: reduce(lambda x, _: x+[x[-1]+x[-2]],range(n-2), [0, 1])\n",
    "n=int(input(\"Enter n: \"))\n",
    "print(\"Fibonacci series upto %s :\"%(n))\n",
    "print(fibo_series(n))"
   ]
  },
  {
   "cell_type": "code",
   "execution_count": null,
   "metadata": {},
   "outputs": [],
   "source": []
  },
  {
   "cell_type": "markdown",
   "metadata": {},
   "source": [
    "### 20.​ Write a Python program to find intersection of two given arrays using Lambda."
   ]
  },
  {
   "cell_type": "code",
   "execution_count": 206,
   "metadata": {},
   "outputs": [
    {
     "name": "stdout",
     "output_type": "stream",
     "text": [
      "Original arrays:\n",
      "[1, 2, 3, 4]\n",
      "[3, 4, 5, 6]\n",
      "\n",
      " Intersection of the said arrays:  [3, 4]\n"
     ]
    }
   ],
   "source": [
    "array1 = [1,2,3,4]\n",
    "array2 = [3,4,5,6]\n",
    "print(\"Original arrays:\")\n",
    "print(array1)\n",
    "print(array2)\n",
    "result = list(filter(lambda x: x in array1, array2)) \n",
    "print (\"\\n Intersection of the said arrays: \",result)\n"
   ]
  }
 ],
 "metadata": {
  "kernelspec": {
   "display_name": "Python 3",
   "language": "python",
   "name": "python3"
  },
  "language_info": {
   "codemirror_mode": {
    "name": "ipython",
    "version": 3
   },
   "file_extension": ".py",
   "mimetype": "text/x-python",
   "name": "python",
   "nbconvert_exporter": "python",
   "pygments_lexer": "ipython3",
   "version": "3.8.3"
  }
 },
 "nbformat": 4,
 "nbformat_minor": 4
}
